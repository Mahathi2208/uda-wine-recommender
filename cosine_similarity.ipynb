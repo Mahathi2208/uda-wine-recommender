{
 "cells": [
  {
   "cell_type": "code",
   "execution_count": 3,
   "id": "8b05891f",
   "metadata": {},
   "outputs": [],
   "source": [
    "import pandas as pd\n",
    "import numpy as np\n",
    "from sklearn.feature_extraction.text import CountVectorizer\n",
    "import re\n",
    "from nltk.corpus import stopwords\n",
    "from nltk.stem.wordnet import WordNetLemmatizer\n",
    "import spacy\n",
    "from sklearn.metrics.pairwise import cosine_similarity\n",
    "from sklearn.feature_extraction.text import TfidfVectorizer"
   ]
  },
  {
   "cell_type": "code",
   "execution_count": 4,
   "id": "68bf246b",
   "metadata": {},
   "outputs": [],
   "source": [
    "# import spacy\n",
    "# from spacy.cli import download\n",
    "# print(download('en'))"
   ]
  },
  {
   "cell_type": "code",
   "execution_count": 5,
   "id": "96c99f57",
   "metadata": {
    "scrolled": true
   },
   "outputs": [],
   "source": [
    "nlp = spacy.load('en_core_web_sm')"
   ]
  },
  {
   "cell_type": "code",
   "execution_count": 6,
   "id": "534fecb7",
   "metadata": {},
   "outputs": [],
   "source": [
    "stopset = set(stopwords.words('english'))"
   ]
  },
  {
   "cell_type": "code",
   "execution_count": 7,
   "id": "6d6289a6",
   "metadata": {},
   "outputs": [],
   "source": [
    "data = pd.read_csv('wine.csv', index_col = 0)"
   ]
  },
  {
   "cell_type": "code",
   "execution_count": 8,
   "id": "5221ee49",
   "metadata": {},
   "outputs": [
    {
     "data": {
      "text/plain": [
       "'Lovely bouquet, first off vanilla balanced by slightly ripened plums and blackberries with a hint of chocolate and a smooth but not too sweet finish. Brilliant. 4.3'"
      ]
     },
     "execution_count": 8,
     "metadata": {},
     "output_type": "execute_result"
    }
   ],
   "source": [
    "data['reviews'][2]"
   ]
  },
  {
   "cell_type": "code",
   "execution_count": 9,
   "id": "aae98074",
   "metadata": {},
   "outputs": [],
   "source": [
    "# import nltk\n",
    "# nltk.download('omw-1.4')"
   ]
  },
  {
   "cell_type": "code",
   "execution_count": 10,
   "id": "59bafef6",
   "metadata": {},
   "outputs": [],
   "source": [
    "# ## Function to clean the reviews and tokenize and lemmatize it.\n",
    "\n",
    "# def clean(doc):\n",
    "#     doc = str(doc)\n",
    "#     count_vectorizer = CountVectorizer()\n",
    "#     vector_matrix = count_vectorizer.fit_transform([doc])    \n",
    "#     tokens = count_vectorizer.get_feature_names_out()\n",
    "#     ## Cleaning the token of stopwords and punctualtion (len > 2)\n",
    "#     cleanup = [token.lower() for token in tokens if token.lower() not in stopset and  len(token)>2]\n",
    "#     lemmatizer = WordNetLemmatizer()\n",
    "#     fin = [lemmatizer.lemmatize(token) for token in cleanup]    \n",
    "#     return(fin)"
   ]
  },
  {
   "cell_type": "code",
   "execution_count": 11,
   "id": "e4fc45ac",
   "metadata": {},
   "outputs": [],
   "source": [
    "def clean(doc):\n",
    "    doc = str(doc)\n",
    "    doc = nlp(doc)\n",
    "    tokens = [token.lemma_ for token in doc]\n",
    "    ## Cleaning the token of stopwords and punctualtion (len > 2)\n",
    "    cleanup = [token.lower() for token in tokens if token.lower() not in stopset and  len(token)>2]\n",
    "    lemmatizer = WordNetLemmatizer()\n",
    "    fin = [lemmatizer.lemmatize(token) for token in cleanup]\n",
    "    return(list(set(fin)))"
   ]
  },
  {
   "cell_type": "code",
   "execution_count": 12,
   "id": "056c933b",
   "metadata": {
    "scrolled": true
   },
   "outputs": [
    {
     "name": "stdout",
     "output_type": "stream",
     "text": [
      "['slightly', 'sweet', '4.3', 'first', 'bouquet', 'chocolate', 'finish', 'ripen', 'plum', 'brilliant', 'smooth', 'vanilla', 'lovely', 'balance', 'blackberry', 'hint']\n"
     ]
    }
   ],
   "source": [
    "print(clean(data['reviews'][2]))"
   ]
  },
  {
   "cell_type": "code",
   "execution_count": 13,
   "id": "9811450d",
   "metadata": {},
   "outputs": [],
   "source": [
    "data['cleaned_reviews'] = data.apply(lambda x: clean(x['reviews']), axis = 1)"
   ]
  },
  {
   "cell_type": "code",
   "execution_count": 14,
   "id": "f0e9a65f",
   "metadata": {},
   "outputs": [
    {
     "data": {
      "text/html": [
       "<div>\n",
       "<style scoped>\n",
       "    .dataframe tbody tr th:only-of-type {\n",
       "        vertical-align: middle;\n",
       "    }\n",
       "\n",
       "    .dataframe tbody tr th {\n",
       "        vertical-align: top;\n",
       "    }\n",
       "\n",
       "    .dataframe thead th {\n",
       "        text-align: right;\n",
       "    }\n",
       "</style>\n",
       "<table border=\"1\" class=\"dataframe\">\n",
       "  <thead>\n",
       "    <tr style=\"text-align: right;\">\n",
       "      <th></th>\n",
       "      <th>product_name</th>\n",
       "      <th>reviews</th>\n",
       "      <th>rating</th>\n",
       "      <th>cleaned_reviews</th>\n",
       "    </tr>\n",
       "  </thead>\n",
       "  <tbody>\n",
       "    <tr>\n",
       "      <th>0</th>\n",
       "      <td>19 Crimes Red Blend 2020</td>\n",
       "      <td>Hard to fault this wine at its price. Vanilla ...</td>\n",
       "      <td>4.2</td>\n",
       "      <td>[even, black, first, fruit, hit, drink, follow...</td>\n",
       "    </tr>\n",
       "    <tr>\n",
       "      <th>1</th>\n",
       "      <td>19 Crimes Red Blend 2020</td>\n",
       "      <td>A treasure for the price. Especially with a cl...</td>\n",
       "      <td>4.5</td>\n",
       "      <td>[bold, bit, tenner, club, card, price, second,...</td>\n",
       "    </tr>\n",
       "    <tr>\n",
       "      <th>2</th>\n",
       "      <td>19 Crimes Red Blend 2020</td>\n",
       "      <td>Lovely bouquet, first off vanilla balanced by ...</td>\n",
       "      <td>4.0</td>\n",
       "      <td>[slightly, sweet, 4.3, first, bouquet, chocola...</td>\n",
       "    </tr>\n",
       "    <tr>\n",
       "      <th>3</th>\n",
       "      <td>19 Crimes Red Blend 2020</td>\n",
       "      <td>Awesome red blend! Well balanced, complex, fru...</td>\n",
       "      <td>4.0</td>\n",
       "      <td>[braised, balanced, well, bodied, fruity, bras...</td>\n",
       "    </tr>\n",
       "    <tr>\n",
       "      <th>4</th>\n",
       "      <td>19 Crimes Red Blend 2020</td>\n",
       "      <td>Another wine from 19 crimes what I tasted. Aga...</td>\n",
       "      <td>4.8</td>\n",
       "      <td>[bold, tannin, mention, good, another, taste, ...</td>\n",
       "    </tr>\n",
       "  </tbody>\n",
       "</table>\n",
       "</div>"
      ],
      "text/plain": [
       "               product_name  \\\n",
       "0  19 Crimes Red Blend 2020   \n",
       "1  19 Crimes Red Blend 2020   \n",
       "2  19 Crimes Red Blend 2020   \n",
       "3  19 Crimes Red Blend 2020   \n",
       "4  19 Crimes Red Blend 2020   \n",
       "\n",
       "                                             reviews  rating  \\\n",
       "0  Hard to fault this wine at its price. Vanilla ...     4.2   \n",
       "1  A treasure for the price. Especially with a cl...     4.5   \n",
       "2  Lovely bouquet, first off vanilla balanced by ...     4.0   \n",
       "3  Awesome red blend! Well balanced, complex, fru...     4.0   \n",
       "4  Another wine from 19 crimes what I tasted. Aga...     4.8   \n",
       "\n",
       "                                     cleaned_reviews  \n",
       "0  [even, black, first, fruit, hit, drink, follow...  \n",
       "1  [bold, bit, tenner, club, card, price, second,...  \n",
       "2  [slightly, sweet, 4.3, first, bouquet, chocola...  \n",
       "3  [braised, balanced, well, bodied, fruity, bras...  \n",
       "4  [bold, tannin, mention, good, another, taste, ...  "
      ]
     },
     "execution_count": 14,
     "metadata": {},
     "output_type": "execute_result"
    }
   ],
   "source": [
    "data.head()"
   ]
  },
  {
   "cell_type": "code",
   "execution_count": 15,
   "id": "3d02968f",
   "metadata": {},
   "outputs": [],
   "source": [
    "def similarity(doc1, doc2):\n",
    "    doc = [' '.join(doc1), ' '.join(doc2)]\n",
    "    count_vectorizer = CountVectorizer()\n",
    "    vector_matrix = count_vectorizer.fit_transform(doc)\n",
    "    tokens = count_vectorizer.get_feature_names_out()\n",
    "    \n",
    "    cosine_similarity_matrix = cosine_similarity(vector_matrix)\n",
    "    df = create_dataframe(cosine_similarity_matrix, ['doc_1','doc_2'])\n",
    "    \n",
    "    return(round(df['doc_1'][1], 2))"
   ]
  },
  {
   "cell_type": "code",
   "execution_count": 16,
   "id": "2951a5b1",
   "metadata": {},
   "outputs": [],
   "source": [
    "def create_dataframe(matrix, tokens):\n",
    "\n",
    "    doc_names = [f'doc_{i+1}' for i, _ in enumerate(matrix)]\n",
    "    df = pd.DataFrame(data=matrix, index=doc_names, columns=tokens)\n",
    "    return(df)"
   ]
  },
  {
   "cell_type": "code",
   "execution_count": 17,
   "id": "55237f07",
   "metadata": {},
   "outputs": [
    {
     "name": "stdout",
     "output_type": "stream",
     "text": [
      "Enter attribute: sweet\n",
      "Enter attribute: plum\n",
      "Enter attribute: cherry\n"
     ]
    }
   ],
   "source": [
    "## User defined attributes\n",
    "\n",
    "doc1 = []\n",
    "for i in range(0, 3):\n",
    "    a = input('Enter attribute: ')\n",
    "    doc1.append(a)"
   ]
  },
  {
   "cell_type": "code",
   "execution_count": 18,
   "id": "e304f44e",
   "metadata": {},
   "outputs": [],
   "source": [
    "data['similarity_score'] = data.apply(lambda x: similarity(doc1, x['cleaned_reviews']), axis = 1)"
   ]
  },
  {
   "cell_type": "code",
   "execution_count": 19,
   "id": "e415df20",
   "metadata": {},
   "outputs": [
    {
     "data": {
      "text/html": [
       "<div>\n",
       "<style scoped>\n",
       "    .dataframe tbody tr th:only-of-type {\n",
       "        vertical-align: middle;\n",
       "    }\n",
       "\n",
       "    .dataframe tbody tr th {\n",
       "        vertical-align: top;\n",
       "    }\n",
       "\n",
       "    .dataframe thead th {\n",
       "        text-align: right;\n",
       "    }\n",
       "</style>\n",
       "<table border=\"1\" class=\"dataframe\">\n",
       "  <thead>\n",
       "    <tr style=\"text-align: right;\">\n",
       "      <th></th>\n",
       "      <th>product_name</th>\n",
       "      <th>reviews</th>\n",
       "      <th>rating</th>\n",
       "      <th>cleaned_reviews</th>\n",
       "      <th>similarity_score</th>\n",
       "    </tr>\n",
       "  </thead>\n",
       "  <tbody>\n",
       "    <tr>\n",
       "      <th>0</th>\n",
       "      <td>19 Crimes Red Blend 2020</td>\n",
       "      <td>Hard to fault this wine at its price. Vanilla ...</td>\n",
       "      <td>4.2</td>\n",
       "      <td>[even, black, first, fruit, hit, drink, follow...</td>\n",
       "      <td>0.23</td>\n",
       "    </tr>\n",
       "    <tr>\n",
       "      <th>1</th>\n",
       "      <td>19 Crimes Red Blend 2020</td>\n",
       "      <td>A treasure for the price. Especially with a cl...</td>\n",
       "      <td>4.5</td>\n",
       "      <td>[bold, bit, tenner, club, card, price, second,...</td>\n",
       "      <td>0.00</td>\n",
       "    </tr>\n",
       "    <tr>\n",
       "      <th>2</th>\n",
       "      <td>19 Crimes Red Blend 2020</td>\n",
       "      <td>Lovely bouquet, first off vanilla balanced by ...</td>\n",
       "      <td>4.0</td>\n",
       "      <td>[slightly, sweet, 4.3, first, bouquet, chocola...</td>\n",
       "      <td>0.30</td>\n",
       "    </tr>\n",
       "    <tr>\n",
       "      <th>3</th>\n",
       "      <td>19 Crimes Red Blend 2020</td>\n",
       "      <td>Awesome red blend! Well balanced, complex, fru...</td>\n",
       "      <td>4.0</td>\n",
       "      <td>[braised, balanced, well, bodied, fruity, bras...</td>\n",
       "      <td>0.00</td>\n",
       "    </tr>\n",
       "    <tr>\n",
       "      <th>4</th>\n",
       "      <td>19 Crimes Red Blend 2020</td>\n",
       "      <td>Another wine from 19 crimes what I tasted. Aga...</td>\n",
       "      <td>4.8</td>\n",
       "      <td>[bold, tannin, mention, good, another, taste, ...</td>\n",
       "      <td>0.14</td>\n",
       "    </tr>\n",
       "  </tbody>\n",
       "</table>\n",
       "</div>"
      ],
      "text/plain": [
       "               product_name  \\\n",
       "0  19 Crimes Red Blend 2020   \n",
       "1  19 Crimes Red Blend 2020   \n",
       "2  19 Crimes Red Blend 2020   \n",
       "3  19 Crimes Red Blend 2020   \n",
       "4  19 Crimes Red Blend 2020   \n",
       "\n",
       "                                             reviews  rating  \\\n",
       "0  Hard to fault this wine at its price. Vanilla ...     4.2   \n",
       "1  A treasure for the price. Especially with a cl...     4.5   \n",
       "2  Lovely bouquet, first off vanilla balanced by ...     4.0   \n",
       "3  Awesome red blend! Well balanced, complex, fru...     4.0   \n",
       "4  Another wine from 19 crimes what I tasted. Aga...     4.8   \n",
       "\n",
       "                                     cleaned_reviews  similarity_score  \n",
       "0  [even, black, first, fruit, hit, drink, follow...              0.23  \n",
       "1  [bold, bit, tenner, club, card, price, second,...              0.00  \n",
       "2  [slightly, sweet, 4.3, first, bouquet, chocola...              0.30  \n",
       "3  [braised, balanced, well, bodied, fruity, bras...              0.00  \n",
       "4  [bold, tannin, mention, good, another, taste, ...              0.14  "
      ]
     },
     "execution_count": 19,
     "metadata": {},
     "output_type": "execute_result"
    }
   ],
   "source": [
    "data.head()"
   ]
  },
  {
   "cell_type": "code",
   "execution_count": 20,
   "id": "697c59b7",
   "metadata": {},
   "outputs": [],
   "source": [
    "from sklearn.feature_extraction.text import TfidfVectorizer"
   ]
  },
  {
   "cell_type": "code",
   "execution_count": 21,
   "id": "e25eea70",
   "metadata": {},
   "outputs": [],
   "source": [
    "def tfid(doc1, doc2):\n",
    "    doc = [' '.join(doc1), ' '.join(doc2)]\n",
    "    Tfidf_vect = TfidfVectorizer()\n",
    "    \n",
    "    vector_matrix = Tfidf_vect.fit_transform(doc)\n",
    "    tokens = Tfidf_vect.get_feature_names_out()\n",
    "    \n",
    "    cosine_similarity_matrix = cosine_similarity(vector_matrix)\n",
    "    df = create_dataframe(cosine_similarity_matrix, ['doc_1','doc_2'])\n",
    "    \n",
    "    return(round(df['doc_1'][1], 2))"
   ]
  },
  {
   "cell_type": "code",
   "execution_count": 22,
   "id": "0de00b4e",
   "metadata": {},
   "outputs": [],
   "source": [
    "data['tfid_similarity_score'] = data.apply(lambda x: tfid(doc1, x['cleaned_reviews']), axis = 1)"
   ]
  },
  {
   "cell_type": "code",
   "execution_count": 23,
   "id": "403a7ff1",
   "metadata": {},
   "outputs": [
    {
     "data": {
      "text/html": [
       "<div>\n",
       "<style scoped>\n",
       "    .dataframe tbody tr th:only-of-type {\n",
       "        vertical-align: middle;\n",
       "    }\n",
       "\n",
       "    .dataframe tbody tr th {\n",
       "        vertical-align: top;\n",
       "    }\n",
       "\n",
       "    .dataframe thead th {\n",
       "        text-align: right;\n",
       "    }\n",
       "</style>\n",
       "<table border=\"1\" class=\"dataframe\">\n",
       "  <thead>\n",
       "    <tr style=\"text-align: right;\">\n",
       "      <th></th>\n",
       "      <th>product_name</th>\n",
       "      <th>reviews</th>\n",
       "      <th>rating</th>\n",
       "      <th>cleaned_reviews</th>\n",
       "      <th>similarity_score</th>\n",
       "      <th>tfid_similarity_score</th>\n",
       "    </tr>\n",
       "  </thead>\n",
       "  <tbody>\n",
       "    <tr>\n",
       "      <th>0</th>\n",
       "      <td>19 Crimes Red Blend 2020</td>\n",
       "      <td>Hard to fault this wine at its price. Vanilla ...</td>\n",
       "      <td>4.2</td>\n",
       "      <td>[even, black, first, fruit, hit, drink, follow...</td>\n",
       "      <td>0.23</td>\n",
       "      <td>0.15</td>\n",
       "    </tr>\n",
       "    <tr>\n",
       "      <th>1</th>\n",
       "      <td>19 Crimes Red Blend 2020</td>\n",
       "      <td>A treasure for the price. Especially with a cl...</td>\n",
       "      <td>4.5</td>\n",
       "      <td>[bold, bit, tenner, club, card, price, second,...</td>\n",
       "      <td>0.00</td>\n",
       "      <td>0.00</td>\n",
       "    </tr>\n",
       "    <tr>\n",
       "      <th>2</th>\n",
       "      <td>19 Crimes Red Blend 2020</td>\n",
       "      <td>Lovely bouquet, first off vanilla balanced by ...</td>\n",
       "      <td>4.0</td>\n",
       "      <td>[slightly, sweet, 4.3, first, bouquet, chocola...</td>\n",
       "      <td>0.30</td>\n",
       "      <td>0.19</td>\n",
       "    </tr>\n",
       "    <tr>\n",
       "      <th>3</th>\n",
       "      <td>19 Crimes Red Blend 2020</td>\n",
       "      <td>Awesome red blend! Well balanced, complex, fru...</td>\n",
       "      <td>4.0</td>\n",
       "      <td>[braised, balanced, well, bodied, fruity, bras...</td>\n",
       "      <td>0.00</td>\n",
       "      <td>0.00</td>\n",
       "    </tr>\n",
       "    <tr>\n",
       "      <th>4</th>\n",
       "      <td>19 Crimes Red Blend 2020</td>\n",
       "      <td>Another wine from 19 crimes what I tasted. Aga...</td>\n",
       "      <td>4.8</td>\n",
       "      <td>[bold, tannin, mention, good, another, taste, ...</td>\n",
       "      <td>0.14</td>\n",
       "      <td>0.08</td>\n",
       "    </tr>\n",
       "  </tbody>\n",
       "</table>\n",
       "</div>"
      ],
      "text/plain": [
       "               product_name  \\\n",
       "0  19 Crimes Red Blend 2020   \n",
       "1  19 Crimes Red Blend 2020   \n",
       "2  19 Crimes Red Blend 2020   \n",
       "3  19 Crimes Red Blend 2020   \n",
       "4  19 Crimes Red Blend 2020   \n",
       "\n",
       "                                             reviews  rating  \\\n",
       "0  Hard to fault this wine at its price. Vanilla ...     4.2   \n",
       "1  A treasure for the price. Especially with a cl...     4.5   \n",
       "2  Lovely bouquet, first off vanilla balanced by ...     4.0   \n",
       "3  Awesome red blend! Well balanced, complex, fru...     4.0   \n",
       "4  Another wine from 19 crimes what I tasted. Aga...     4.8   \n",
       "\n",
       "                                     cleaned_reviews  similarity_score  \\\n",
       "0  [even, black, first, fruit, hit, drink, follow...              0.23   \n",
       "1  [bold, bit, tenner, club, card, price, second,...              0.00   \n",
       "2  [slightly, sweet, 4.3, first, bouquet, chocola...              0.30   \n",
       "3  [braised, balanced, well, bodied, fruity, bras...              0.00   \n",
       "4  [bold, tannin, mention, good, another, taste, ...              0.14   \n",
       "\n",
       "   tfid_similarity_score  \n",
       "0                   0.15  \n",
       "1                   0.00  \n",
       "2                   0.19  \n",
       "3                   0.00  \n",
       "4                   0.08  "
      ]
     },
     "execution_count": 23,
     "metadata": {},
     "output_type": "execute_result"
    }
   ],
   "source": [
    "data.head()"
   ]
  },
  {
   "cell_type": "code",
   "execution_count": 24,
   "id": "3564c20b",
   "metadata": {},
   "outputs": [],
   "source": [
    "new_data = data[['product_name', 'similarity_score', 'reviews']]"
   ]
  },
  {
   "cell_type": "code",
   "execution_count": 25,
   "id": "7d277951",
   "metadata": {},
   "outputs": [
    {
     "data": {
      "text/html": [
       "<div>\n",
       "<style scoped>\n",
       "    .dataframe tbody tr th:only-of-type {\n",
       "        vertical-align: middle;\n",
       "    }\n",
       "\n",
       "    .dataframe tbody tr th {\n",
       "        vertical-align: top;\n",
       "    }\n",
       "\n",
       "    .dataframe thead th {\n",
       "        text-align: right;\n",
       "    }\n",
       "</style>\n",
       "<table border=\"1\" class=\"dataframe\">\n",
       "  <thead>\n",
       "    <tr style=\"text-align: right;\">\n",
       "      <th></th>\n",
       "      <th>product_name</th>\n",
       "      <th>similarity_score</th>\n",
       "      <th>reviews</th>\n",
       "    </tr>\n",
       "  </thead>\n",
       "  <tbody>\n",
       "    <tr>\n",
       "      <th>0</th>\n",
       "      <td>19 Crimes Red Blend 2020</td>\n",
       "      <td>0.23</td>\n",
       "      <td>Hard to fault this wine at its price. Vanilla ...</td>\n",
       "    </tr>\n",
       "    <tr>\n",
       "      <th>1</th>\n",
       "      <td>19 Crimes Red Blend 2020</td>\n",
       "      <td>0.00</td>\n",
       "      <td>A treasure for the price. Especially with a cl...</td>\n",
       "    </tr>\n",
       "  </tbody>\n",
       "</table>\n",
       "</div>"
      ],
      "text/plain": [
       "               product_name  similarity_score  \\\n",
       "0  19 Crimes Red Blend 2020              0.23   \n",
       "1  19 Crimes Red Blend 2020              0.00   \n",
       "\n",
       "                                             reviews  \n",
       "0  Hard to fault this wine at its price. Vanilla ...  \n",
       "1  A treasure for the price. Especially with a cl...  "
      ]
     },
     "execution_count": 25,
     "metadata": {},
     "output_type": "execute_result"
    }
   ],
   "source": [
    "new_data.head(2)"
   ]
  },
  {
   "cell_type": "code",
   "execution_count": 26,
   "id": "f971166f",
   "metadata": {},
   "outputs": [],
   "source": [
    "new_data1 = data[['product_name', 'tfid_similarity_score', 'reviews']]"
   ]
  },
  {
   "cell_type": "code",
   "execution_count": 27,
   "id": "aa546044",
   "metadata": {},
   "outputs": [
    {
     "data": {
      "text/html": [
       "<div>\n",
       "<style scoped>\n",
       "    .dataframe tbody tr th:only-of-type {\n",
       "        vertical-align: middle;\n",
       "    }\n",
       "\n",
       "    .dataframe tbody tr th {\n",
       "        vertical-align: top;\n",
       "    }\n",
       "\n",
       "    .dataframe thead th {\n",
       "        text-align: right;\n",
       "    }\n",
       "</style>\n",
       "<table border=\"1\" class=\"dataframe\">\n",
       "  <thead>\n",
       "    <tr style=\"text-align: right;\">\n",
       "      <th></th>\n",
       "      <th>product_name</th>\n",
       "      <th>tfid_similarity_score</th>\n",
       "      <th>reviews</th>\n",
       "    </tr>\n",
       "  </thead>\n",
       "  <tbody>\n",
       "    <tr>\n",
       "      <th>0</th>\n",
       "      <td>19 Crimes Red Blend 2020</td>\n",
       "      <td>0.15</td>\n",
       "      <td>Hard to fault this wine at its price. Vanilla ...</td>\n",
       "    </tr>\n",
       "    <tr>\n",
       "      <th>1</th>\n",
       "      <td>19 Crimes Red Blend 2020</td>\n",
       "      <td>0.00</td>\n",
       "      <td>A treasure for the price. Especially with a cl...</td>\n",
       "    </tr>\n",
       "  </tbody>\n",
       "</table>\n",
       "</div>"
      ],
      "text/plain": [
       "               product_name  tfid_similarity_score  \\\n",
       "0  19 Crimes Red Blend 2020                   0.15   \n",
       "1  19 Crimes Red Blend 2020                   0.00   \n",
       "\n",
       "                                             reviews  \n",
       "0  Hard to fault this wine at its price. Vanilla ...  \n",
       "1  A treasure for the price. Especially with a cl...  "
      ]
     },
     "execution_count": 27,
     "metadata": {},
     "output_type": "execute_result"
    }
   ],
   "source": [
    "new_data1.head(2)"
   ]
  },
  {
   "cell_type": "code",
   "execution_count": 28,
   "id": "82c0f14f",
   "metadata": {},
   "outputs": [],
   "source": [
    "new_data.to_csv('similarity.csv')"
   ]
  },
  {
   "cell_type": "code",
   "execution_count": 29,
   "id": "89f76816",
   "metadata": {},
   "outputs": [],
   "source": [
    "new_data1.to_csv('tfidf_similarity.csv')"
   ]
  },
  {
   "cell_type": "code",
   "execution_count": 35,
   "id": "e5f26337",
   "metadata": {},
   "outputs": [],
   "source": [
    "# a = ['apple','banana','cherry', 'hey']\n",
    "# b = ['the','Banana','disk']\n",
    "# c = [' '.join(a), ' '.join(b)]"
   ]
  },
  {
   "cell_type": "code",
   "execution_count": 36,
   "id": "dd12d8e6",
   "metadata": {},
   "outputs": [],
   "source": [
    "# count_vectorizer = CountVectorizer()\n",
    "# vector_matrix = count_vectorizer.fit_transform(c)\n",
    "# vector_matrix"
   ]
  },
  {
   "cell_type": "code",
   "execution_count": 37,
   "id": "9bfdf7a7",
   "metadata": {},
   "outputs": [],
   "source": [
    "# vector_matrix.toarray()"
   ]
  },
  {
   "cell_type": "code",
   "execution_count": 31,
   "id": "0e38ebe5",
   "metadata": {},
   "outputs": [],
   "source": [
    "# tokens"
   ]
  },
  {
   "cell_type": "code",
   "execution_count": 38,
   "id": "371035e2",
   "metadata": {},
   "outputs": [],
   "source": [
    "# tokens = count_vectorizer.get_feature_names_out()\n",
    "# create_dataframe(vector_matrix.toarray(),tokens)"
   ]
  },
  {
   "cell_type": "code",
   "execution_count": 39,
   "id": "26a50359",
   "metadata": {},
   "outputs": [],
   "source": [
    "# cosine_similarity_matrix = cosine_similarity(vector_matrix)\n",
    "# create_dataframe(cosine_similarity_matrix,['doc_1','doc_2'])['doc_1'][1]"
   ]
  },
  {
   "cell_type": "code",
   "execution_count": null,
   "id": "0d7405bc",
   "metadata": {},
   "outputs": [],
   "source": []
  }
 ],
 "metadata": {
  "kernelspec": {
   "display_name": "Python 3 (ipykernel)",
   "language": "python",
   "name": "python3"
  },
  "language_info": {
   "codemirror_mode": {
    "name": "ipython",
    "version": 3
   },
   "file_extension": ".py",
   "mimetype": "text/x-python",
   "name": "python",
   "nbconvert_exporter": "python",
   "pygments_lexer": "ipython3",
   "version": "3.9.12"
  }
 },
 "nbformat": 4,
 "nbformat_minor": 5
}
